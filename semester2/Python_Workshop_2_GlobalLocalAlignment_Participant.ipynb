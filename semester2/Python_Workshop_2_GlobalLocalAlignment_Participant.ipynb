{
 "cells": [
  {
   "cell_type": "markdown",
   "metadata": {},
   "source": [
    "### Recap: Nested For Loops\n",
    "\n",
    "A loop in a loop"
   ]
  },
  {
   "cell_type": "code",
   "execution_count": 2,
   "metadata": {},
   "outputs": [],
   "source": [
    "# Create a nested for loop here\n",
    "\n"
   ]
  },
  {
   "cell_type": "code",
   "execution_count": 3,
   "metadata": {},
   "outputs": [],
   "source": [
    "# Another nested for loop\n",
    "\n"
   ]
  },
  {
   "cell_type": "markdown",
   "metadata": {},
   "source": [
    "### Global Alignment"
   ]
  },
  {
   "cell_type": "code",
   "execution_count": 4,
   "metadata": {},
   "outputs": [
    {
     "name": "stdout",
     "output_type": "stream",
     "text": [
      "[]\n"
     ]
    }
   ],
   "source": [
    "from pprint import pprint \n",
    "\n",
    "#Create scoring matrix\n",
    "\n",
    "def getMatrix(sizeX, sizeY, gap):\n",
    "    matrix = []\n",
    "    # TODO\n",
    "    return matrix\n",
    "\n",
    "\n",
    "x = \"ATCGATCG\"\n",
    "y = \"ATCCAT\"\n",
    "pprint(getMatrix(x, y, -2))\n"
   ]
  },
  {
   "cell_type": "code",
   "execution_count": 5,
   "metadata": {},
   "outputs": [
    {
     "name": "stdout",
     "output_type": "stream",
     "text": [
      "[]\n"
     ]
    }
   ],
   "source": [
    "#Create initial matrix of zeros with dimensions len(x) x len(y)\n",
    "\n",
    "def getTraceBackMatrix(sizeX, sizeY):\n",
    "    matrix = []\n",
    "    # TODO\n",
    "    return matrix\n",
    "\n",
    "pprint(getTraceBackMatrix(x, y))\n"
   ]
  },
  {
   "cell_type": "markdown",
   "metadata": {},
   "source": [
    "### Class\n",
    "\n",
    "A class is considered as a blueprint of objects. We can think of the class as a sketch (prototype) of a house. It contains all the details about the floors, doors, windows, etc. Based on these descriptions we build the house. House is the object.\n",
    "\n",
    "Since many houses can be made from the same description, we can create many objects from a class."
   ]
  },
  {
   "cell_type": "code",
   "execution_count": null,
   "metadata": {},
   "outputs": [],
   "source": [
    "# Example of class and how it can be used"
   ]
  },
  {
   "cell_type": "code",
   "execution_count": 13,
   "metadata": {},
   "outputs": [],
   "source": [
    "#Define scores for each parameter\n",
    "\n",
    "class ScoreParams:\n",
    "    def __init__(self, gap, match, mismatch):\n",
    "        #TODO\n",
    "\n",
    "    def misMatchChar(self, x, y):\n",
    "        #TODO\n",
    "        "
   ]
  },
  {
   "cell_type": "code",
   "execution_count": 6,
   "metadata": {},
   "outputs": [],
   "source": [
    "#Fill in the matrix with alignment scores\n",
    "\n",
    "def globalAlign(x, y, score):\n",
    "    #TODO\n",
    "    return\n"
   ]
  },
  {
   "cell_type": "code",
   "execution_count": 8,
   "metadata": {},
   "outputs": [],
   "source": [
    "# Obtain x and y globally aligned sequence arrays using the bottom-up-approach\n",
    "\n",
    "def getAlignedSequences(x, y, matrix, traceBack):\n",
    "    #TODO\n",
    "    return xSeq[::-1], ySeq[::-1]\n"
   ]
  },
  {
   "cell_type": "markdown",
   "metadata": {},
   "source": [
    "### Local Alignment"
   ]
  },
  {
   "cell_type": "code",
   "execution_count": 9,
   "metadata": {},
   "outputs": [],
   "source": [
    "#Create scoring matrix\n",
    "\n",
    "def getMatrix(sizeX, sizeY):\n",
    "    matrix = []\n",
    "    #TODO\n",
    "    return matrix\n"
   ]
  },
  {
   "cell_type": "code",
   "execution_count": 22,
   "metadata": {},
   "outputs": [],
   "source": [
    "#Create initial matrix of zeros with dimensions len(x) x len(y)\n",
    "\n",
    "def getTraceBackMatrix(sizeX, sizeY):\n",
    "    matrix = []\n",
    "    #TODO\n",
    "    return matrix\n"
   ]
  },
  {
   "cell_type": "code",
   "execution_count": 23,
   "metadata": {},
   "outputs": [],
   "source": [
    "#Define scores for each parameter\n",
    "\n",
    "class ScoreParams:\n",
    "    def __init__(self, gap, match, mismatch):\n",
    "        #TODO\n"
   ]
  },
  {
   "cell_type": "code",
   "execution_count": 12,
   "metadata": {},
   "outputs": [],
   "source": [
    "#Fill in the matrix with alignment scores and obtain the best score and position\n",
    "\n",
    "def localAlign(x, y, score):\n",
    "    #TODO\n",
    "    return\n"
   ]
  },
  {
   "cell_type": "code",
   "execution_count": 13,
   "metadata": {},
   "outputs": [],
   "source": [
    "#Obtaining the locally aligned sequence using matrix\n",
    "\n",
    "def getSequence(x, best, optLoc, matrix, traceBack):\n",
    "    #TODO\n",
    "    return\n"
   ]
  }
 ],
 "metadata": {
  "kernelspec": {
   "display_name": "Python 3",
   "language": "python",
   "name": "python3"
  },
  "language_info": {
   "codemirror_mode": {
    "name": "ipython",
    "version": 3
   },
   "file_extension": ".py",
   "mimetype": "text/x-python",
   "name": "python",
   "nbconvert_exporter": "python",
   "pygments_lexer": "ipython3",
   "version": "3.8.5"
  }
 },
 "nbformat": 4,
 "nbformat_minor": 4
}
