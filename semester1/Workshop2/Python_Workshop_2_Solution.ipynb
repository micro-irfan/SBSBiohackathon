{
 "cells": [
  {
   "cell_type": "markdown",
   "id": "4af76618",
   "metadata": {},
   "source": [
    "## 4 Horsemen of Coding!"
   ]
  },
  {
   "cell_type": "markdown",
   "id": "3276b8ea",
   "metadata": {},
   "source": [
    "## Conditional Statements"
   ]
  },
  {
   "cell_type": "markdown",
   "id": "4790672e",
   "metadata": {},
   "source": [
    "### Booleans"
   ]
  },
  {
   "cell_type": "code",
   "execution_count": 1,
   "id": "6b221eea",
   "metadata": {},
   "outputs": [],
   "source": [
    "PythonIsAwesome = True"
   ]
  },
  {
   "cell_type": "code",
   "execution_count": 2,
   "id": "7284cb94",
   "metadata": {},
   "outputs": [],
   "source": [
    "year1 = False"
   ]
  },
  {
   "cell_type": "markdown",
   "id": "70d8cd26",
   "metadata": {},
   "source": [
    "### Comparison Operators"
   ]
  },
  {
   "cell_type": "markdown",
   "id": "8701d7e9",
   "metadata": {},
   "source": [
    "Six comparison operators:\n",
    "\n",
    "1. more than (\\>)\n",
    "2. less than (<)\n",
    "3. equal or more than (\\>=)\n",
    "4. equal or less than (<=)\n",
    "5. equal (==)\n",
    "6. Not equal (!=)"
   ]
  },
  {
   "cell_type": "code",
   "execution_count": 3,
   "id": "bd2fd6f2",
   "metadata": {},
   "outputs": [
    {
     "data": {
      "text/plain": [
       "True"
      ]
     },
     "execution_count": 3,
     "metadata": {},
     "output_type": "execute_result"
    }
   ],
   "source": [
    "2 < 3"
   ]
  },
  {
   "cell_type": "code",
   "execution_count": 4,
   "id": "27b1e65a",
   "metadata": {},
   "outputs": [
    {
     "data": {
      "text/plain": [
       "True"
      ]
     },
     "execution_count": 4,
     "metadata": {},
     "output_type": "execute_result"
    }
   ],
   "source": [
    "1 >= 1"
   ]
  },
  {
   "cell_type": "code",
   "execution_count": 5,
   "id": "a4e3c68d",
   "metadata": {},
   "outputs": [
    {
     "data": {
      "text/plain": [
       "True"
      ]
     },
     "execution_count": 5,
     "metadata": {},
     "output_type": "execute_result"
    }
   ],
   "source": [
    "1 <= 4"
   ]
  },
  {
   "cell_type": "code",
   "execution_count": 6,
   "id": "9ce04990",
   "metadata": {},
   "outputs": [
    {
     "data": {
      "text/plain": [
       "False"
      ]
     },
     "execution_count": 6,
     "metadata": {},
     "output_type": "execute_result"
    }
   ],
   "source": [
    "## Test on Strings!\n",
    "\n",
    "'Hello' == 'hello'"
   ]
  },
  {
   "cell_type": "code",
   "execution_count": 7,
   "id": "292b84eb",
   "metadata": {},
   "outputs": [
    {
     "data": {
      "text/plain": [
       "False"
      ]
     },
     "execution_count": 7,
     "metadata": {},
     "output_type": "execute_result"
    }
   ],
   "source": [
    "## What about this?\n",
    "\n",
    "1 != True"
   ]
  },
  {
   "cell_type": "code",
   "execution_count": 8,
   "id": "bec1b973",
   "metadata": {},
   "outputs": [
    {
     "data": {
      "text/plain": [
       "True"
      ]
     },
     "execution_count": 8,
     "metadata": {},
     "output_type": "execute_result"
    }
   ],
   "source": [
    "0 == False"
   ]
  },
  {
   "cell_type": "markdown",
   "id": "2f0092ff",
   "metadata": {},
   "source": [
    "### Logic Operators"
   ]
  },
  {
   "cell_type": "code",
   "execution_count": 9,
   "id": "98b7cffb",
   "metadata": {},
   "outputs": [
    {
     "data": {
      "text/plain": [
       "False"
      ]
     },
     "execution_count": 9,
     "metadata": {},
     "output_type": "execute_result"
    }
   ],
   "source": [
    "not (2 < 3)"
   ]
  },
  {
   "cell_type": "code",
   "execution_count": 10,
   "id": "75a042c2",
   "metadata": {},
   "outputs": [
    {
     "data": {
      "text/plain": [
       "False"
      ]
     },
     "execution_count": 10,
     "metadata": {},
     "output_type": "execute_result"
    }
   ],
   "source": [
    "(1 > 2) and (2 < 3)"
   ]
  },
  {
   "cell_type": "code",
   "execution_count": 11,
   "id": "d2727c16",
   "metadata": {},
   "outputs": [
    {
     "data": {
      "text/plain": [
       "True"
      ]
     },
     "execution_count": 11,
     "metadata": {},
     "output_type": "execute_result"
    }
   ],
   "source": [
    "(1 > 2) or (2 < 3)"
   ]
  },
  {
   "cell_type": "code",
   "execution_count": 12,
   "id": "4a477fd3",
   "metadata": {},
   "outputs": [
    {
     "data": {
      "text/plain": [
       "False"
      ]
     },
     "execution_count": 12,
     "metadata": {},
     "output_type": "execute_result"
    }
   ],
   "source": [
    "(1 > 2) and not (2 < 3)"
   ]
  },
  {
   "cell_type": "code",
   "execution_count": 13,
   "id": "fe3851fe",
   "metadata": {},
   "outputs": [
    {
     "name": "stdout",
     "output_type": "stream",
     "text": [
      "[0, 1, 2, 3, 4]\n"
     ]
    }
   ],
   "source": [
    "list_of_numbers = list(range(0,5))\n",
    "print (list_of_numbers)"
   ]
  },
  {
   "cell_type": "code",
   "execution_count": 14,
   "id": "d70965cf",
   "metadata": {},
   "outputs": [
    {
     "name": "stdout",
     "output_type": "stream",
     "text": [
      "[0, 1, 2, 3, 4]\n"
     ]
    }
   ],
   "source": [
    "list_of_numbers = [0, 1, 2, 3, 4]\n",
    "print (list_of_numbers)"
   ]
  },
  {
   "cell_type": "code",
   "execution_count": 15,
   "id": "252c2270",
   "metadata": {},
   "outputs": [
    {
     "data": {
      "text/plain": [
       "True"
      ]
     },
     "execution_count": 15,
     "metadata": {},
     "output_type": "execute_result"
    }
   ],
   "source": [
    "3 in list_of_numbers"
   ]
  },
  {
   "cell_type": "code",
   "execution_count": 16,
   "id": "ff925a8b",
   "metadata": {},
   "outputs": [
    {
     "data": {
      "text/plain": [
       "False"
      ]
     },
     "execution_count": 16,
     "metadata": {},
     "output_type": "execute_result"
    }
   ],
   "source": [
    "6 in list_of_numbers"
   ]
  },
  {
   "cell_type": "code",
   "execution_count": 17,
   "id": "d5a8b05d",
   "metadata": {},
   "outputs": [
    {
     "data": {
      "text/plain": [
       "False"
      ]
     },
     "execution_count": 17,
     "metadata": {},
     "output_type": "execute_result"
    }
   ],
   "source": [
    "not 4 in list_of_numbers"
   ]
  },
  {
   "cell_type": "code",
   "execution_count": 18,
   "id": "5720396e",
   "metadata": {},
   "outputs": [],
   "source": [
    "DNA = 'AGCGTGCCGT'"
   ]
  },
  {
   "cell_type": "code",
   "execution_count": 19,
   "id": "d42b6389",
   "metadata": {},
   "outputs": [
    {
     "data": {
      "text/plain": [
       "True"
      ]
     },
     "execution_count": 19,
     "metadata": {},
     "output_type": "execute_result"
    }
   ],
   "source": [
    "'GCG' in DNA"
   ]
  },
  {
   "cell_type": "markdown",
   "id": "56f6327a",
   "metadata": {},
   "source": [
    "### If, Elif, else Statements"
   ]
  },
  {
   "cell_type": "code",
   "execution_count": 20,
   "id": "48005e0c",
   "metadata": {},
   "outputs": [],
   "source": [
    "a = 8\n",
    "b = 13\n",
    "c = 0\n",
    "d = True\n",
    "DNA = 'AGCGTGCCGT'\n",
    "RNA = ''"
   ]
  },
  {
   "cell_type": "code",
   "execution_count": 21,
   "id": "a6396b16",
   "metadata": {},
   "outputs": [
    {
     "name": "stdout",
     "output_type": "stream",
     "text": [
      "a is less than 10\n"
     ]
    }
   ],
   "source": [
    "if a >= 10:\n",
    "    print (\"a is more than or equal to 10\")\n",
    "else:\n",
    "    print (\"a is less than 10\")"
   ]
  },
  {
   "cell_type": "code",
   "execution_count": 22,
   "id": "4f11be84",
   "metadata": {},
   "outputs": [
    {
     "name": "stdout",
     "output_type": "stream",
     "text": [
      "a is between 5 to 9\n"
     ]
    }
   ],
   "source": [
    "if a >= 10:\n",
    "    print (\"a is more than or equal to 10\")\n",
    "elif a >= 5 and a < 10:\n",
    "    print (\"a is between 5 to 9\")\n",
    "else:\n",
    "    print (\"a is less than 5\")"
   ]
  },
  {
   "cell_type": "code",
   "execution_count": 23,
   "id": "75abae25",
   "metadata": {},
   "outputs": [],
   "source": [
    "if a % 2 == 0 and b % 2 == 0:\n",
    "    print (\"a or b is divisble by 2\")"
   ]
  },
  {
   "cell_type": "code",
   "execution_count": 24,
   "id": "8c4d1f18",
   "metadata": {},
   "outputs": [
    {
     "name": "stdout",
     "output_type": "stream",
     "text": [
      "a or b is divisble by 2\n"
     ]
    }
   ],
   "source": [
    "if a % 2 == 0 or b % 2 == 0:\n",
    "    print (\"a or b is divisble by 2\")"
   ]
  },
  {
   "cell_type": "code",
   "execution_count": 25,
   "id": "a796a638",
   "metadata": {},
   "outputs": [
    {
     "name": "stdout",
     "output_type": "stream",
     "text": [
      "He has completed BS1009 Introduction to Programming\n"
     ]
    }
   ],
   "source": [
    "year1 = False\n",
    "if not year1:\n",
    "    print (\"He has completed BS1009 Introduction to Programming\")"
   ]
  },
  {
   "cell_type": "code",
   "execution_count": 26,
   "id": "2e8aadd2",
   "metadata": {},
   "outputs": [
    {
     "name": "stdout",
     "output_type": "stream",
     "text": [
      "B is True\n",
      "C is False\n",
      "D is True\n"
     ]
    }
   ],
   "source": [
    "b = 13\n",
    "c = 0\n",
    "d = True\n",
    "\n",
    "if b:\n",
    "    print (\"B is True\")\n",
    "else:\n",
    "    print (\"B is False\")\n",
    "    \n",
    "if c:\n",
    "    print (\"C is True\")\n",
    "else:\n",
    "    print (\"C is False\")\n",
    "    \n",
    "if d:\n",
    "    print (\"D is True\")\n",
    "else:\n",
    "    print (\"D is False\")"
   ]
  },
  {
   "cell_type": "code",
   "execution_count": 27,
   "id": "70452a4e",
   "metadata": {},
   "outputs": [
    {
     "name": "stdout",
     "output_type": "stream",
     "text": [
      "The DNA sequence is AGCGTGCCGT\n"
     ]
    }
   ],
   "source": [
    "DNA = 'AGCGTGCCGT'\n",
    "\n",
    "if DNA:\n",
    "    print (f\"The DNA sequence is {DNA}\")\n",
    "else:\n",
    "    print ('No DNA Sequence')"
   ]
  },
  {
   "cell_type": "code",
   "execution_count": 28,
   "id": "29eb73b5",
   "metadata": {},
   "outputs": [
    {
     "name": "stdout",
     "output_type": "stream",
     "text": [
      "No RNA Sequence\n"
     ]
    }
   ],
   "source": [
    "RNA = ''\n",
    "\n",
    "if RNA:\n",
    "    print (f\"The RNA sequence is {RNA}\")\n",
    "else:\n",
    "    print ('No RNA Sequence')"
   ]
  },
  {
   "cell_type": "code",
   "execution_count": 29,
   "id": "ae601e5f",
   "metadata": {},
   "outputs": [
    {
     "name": "stdout",
     "output_type": "stream",
     "text": [
      "GCG is found in AGCGTGCCGT\n"
     ]
    }
   ],
   "source": [
    "if 'GCG' in DNA:\n",
    "    print (f'GCG is found in {DNA}')"
   ]
  },
  {
   "cell_type": "markdown",
   "id": "ecf8205d",
   "metadata": {},
   "source": [
    "### For Loops + If, Else Statements (Horsemen 2)"
   ]
  },
  {
   "cell_type": "markdown",
   "id": "50ddd997",
   "metadata": {},
   "source": [
    "FuzzyWuzzy Mini Challenge!\n",
    "\n",
    "For a range of numbers between 1 to 50\n",
    "Prints 'FuzzyWuzzy' if the number is a multiple of 3 & 5\n",
    "Prints 'Fuzzy' if the number is a multiple of 3\n",
    "Prints 'Wuzzy' if the number is a mulitple of 5\n",
    "else continue"
   ]
  },
  {
   "cell_type": "code",
   "execution_count": 30,
   "id": "57b91182",
   "metadata": {},
   "outputs": [
    {
     "name": "stdout",
     "output_type": "stream",
     "text": [
      "3 Wuzzy\n",
      "5 Fuzzy\n",
      "6 Wuzzy\n",
      "9 Wuzzy\n",
      "10 Fuzzy\n",
      "12 Wuzzy\n",
      "15 FuzzyWuzzy\n",
      "18 Wuzzy\n",
      "20 Fuzzy\n",
      "21 Wuzzy\n",
      "24 Wuzzy\n",
      "25 Fuzzy\n",
      "27 Wuzzy\n",
      "30 FuzzyWuzzy\n",
      "33 Wuzzy\n",
      "35 Fuzzy\n",
      "36 Wuzzy\n",
      "39 Wuzzy\n",
      "40 Fuzzy\n",
      "42 Wuzzy\n",
      "45 FuzzyWuzzy\n",
      "48 Wuzzy\n",
      "50 Fuzzy\n"
     ]
    }
   ],
   "source": [
    "## FuzzyWuzzy\n",
    "\n",
    "## Hint! Use modulo (%) to see if the value returns a remainder\n",
    "\n",
    "limit = 50\n",
    "for i in range(1, limit+1):\n",
    "    ## if i a multiple of both 3 and 5; Print 'FuzzyWuzzy' \n",
    "    if i % 5 == 0 and i % 3 == 0:\n",
    "        print (i, 'FuzzyWuzzy')\n",
    "    ## else if i is a multiple of 3; Print 'Fuzzy' \n",
    "    elif i % 5 == 0:\n",
    "        print (i, 'Fuzzy')\n",
    "    ## else if i is a multiple of 5; Print 'Wuzzy' \n",
    "    elif i % 3 == 0:\n",
    "        print (i, \"Wuzzy\")\n",
    "    ## else; ignore\n",
    "    else: \n",
    "        continue"
   ]
  },
  {
   "cell_type": "markdown",
   "id": "34dacd3c",
   "metadata": {},
   "source": [
    "Convert DNA to RNA! "
   ]
  },
  {
   "cell_type": "code",
   "execution_count": 2,
   "id": "06c5c894",
   "metadata": {},
   "outputs": [
    {
     "name": "stdout",
     "output_type": "stream",
     "text": [
      "GCGAGCGCUAGCUAGCAGCUAGCCAUCGUAGCUAGCUGUGCUAGCAUGGUCGAU\n"
     ]
    }
   ],
   "source": [
    "## Convert DNA to RNA (ie. substitute T to U)\n",
    "\n",
    "DNA = 'GCGAGCGCTAGCTAGCAGCTAGCCATCGTAGCTAGCTGTGCTAGCATGGTCGAT'\n",
    "\n",
    "RNA = ''\n",
    "for nt in DNA: \n",
    "    ## Insert Code Here\n",
    "    ## HINT!! If nt == 'T': do something\n",
    "    if nt == 'T':\n",
    "        RNA += 'U'\n",
    "    else:\n",
    "        RNA += nt\n",
    "        \n",
    "print (RNA)"
   ]
  },
  {
   "cell_type": "code",
   "execution_count": 5,
   "id": "ba871252",
   "metadata": {},
   "outputs": [
    {
     "name": "stdout",
     "output_type": "stream",
     "text": [
      "GCGAGCGCUAGCUAGCAGCUAGCCAUCGUAGCUAGCUGUGCUAGCAUGGUCGAU\n"
     ]
    }
   ],
   "source": [
    "## Convert DNA to RNA (ie. substitute T to U) [One-Liner]\n",
    "\n",
    "RNA = ''.join(['U' if i == 'T' else i for i in DNA])\n",
    "print (RNA)"
   ]
  },
  {
   "cell_type": "markdown",
   "id": "63363de9",
   "metadata": {},
   "source": [
    "### Challenge 2: GC Content "
   ]
  },
  {
   "cell_type": "markdown",
   "id": "6a8dc45f",
   "metadata": {},
   "source": [
    "Your task is to calculate the GC percentage in a DNA String\n",
    "\n",
    "Steps:\n",
    "\n",
    "1. Store GC count in a variable: GC_count\n",
    "2. Iterate over the characters in the DNA using For Loop\n",
    "3. If character is a G or C: GC_count += 1\n",
    "4. Remember to divide GC_count by len(DNA) * 100"
   ]
  },
  {
   "cell_type": "code",
   "execution_count": 32,
   "id": "cfbde8b8",
   "metadata": {},
   "outputs": [],
   "source": [
    "DNA = 'GCGAGCGCTAGCTAGCAGCTAGCCATCGTAGCTAGCTGTGCTAGCATGGTCGAT'"
   ]
  },
  {
   "cell_type": "code",
   "execution_count": 33,
   "id": "674d7400",
   "metadata": {},
   "outputs": [
    {
     "name": "stdout",
     "output_type": "stream",
     "text": [
      "57.41%\n"
     ]
    }
   ],
   "source": [
    "## Hint! Think For Loop + If-else Statement\n",
    "\n",
    "GC_count = 0\n",
    "## Insert Code Here\n",
    "for nt in DNA:\n",
    "    if nt == 'G':\n",
    "        GC_count += 1\n",
    "    elif nt == 'C':\n",
    "        GC_count += 1\n",
    "    \n",
    "print (f'{round((GC_count/len(DNA))*100,2)}%')"
   ]
  },
  {
   "cell_type": "code",
   "execution_count": 6,
   "id": "fa21c990",
   "metadata": {},
   "outputs": [
    {
     "name": "stdout",
     "output_type": "stream",
     "text": [
      "57.41%\n"
     ]
    }
   ],
   "source": [
    "## One-Liner \n",
    "\n",
    "GC_count = DNA.count('G') + DNA.count('C')\n",
    "print (f'{round((GC_count/len(DNA))*100,2)}%')"
   ]
  },
  {
   "cell_type": "markdown",
   "id": "8bfa321a",
   "metadata": {},
   "source": [
    "## Functions (Horsemen 3)"
   ]
  },
  {
   "cell_type": "code",
   "execution_count": 34,
   "id": "0d453278",
   "metadata": {},
   "outputs": [],
   "source": [
    "## Example 1\n",
    "\n",
    "def square(x):\n",
    "    return x*x"
   ]
  },
  {
   "cell_type": "code",
   "execution_count": 35,
   "id": "1c717857",
   "metadata": {},
   "outputs": [
    {
     "name": "stdout",
     "output_type": "stream",
     "text": [
      "0 to the Power of Two gives: 0\n",
      "1 to the Power of Two gives: 1\n",
      "2 to the Power of Two gives: 4\n",
      "3 to the Power of Two gives: 9\n",
      "4 to the Power of Two gives: 16\n",
      "5 to the Power of Two gives: 25\n",
      "6 to the Power of Two gives: 36\n",
      "7 to the Power of Two gives: 49\n",
      "8 to the Power of Two gives: 64\n",
      "9 to the Power of Two gives: 81\n"
     ]
    }
   ],
   "source": [
    "for i in range(10):\n",
    "    squared_value = square(i)\n",
    "    print (f'{i} to the Power of Two gives: {squared_value}')"
   ]
  },
  {
   "cell_type": "code",
   "execution_count": 36,
   "id": "7ef1f808",
   "metadata": {},
   "outputs": [],
   "source": [
    "## Example 2 (From Previous Week)\n",
    "\n",
    "def reverse_complementary(DNA):\n",
    "    reverse = ''\n",
    "    translation = {'A':'T', 'T':'A', 'G':'C', 'C':'G'}\n",
    "    for nt in DNA:\n",
    "        reverse += translation[nt]\n",
    "        \n",
    "    return reverse[::-1]"
   ]
  },
  {
   "cell_type": "code",
   "execution_count": 37,
   "id": "4488ee7c",
   "metadata": {},
   "outputs": [
    {
     "name": "stdout",
     "output_type": "stream",
     "text": [
      "Reverse Complementary of GGCATGCTAGTCGGC:GCCGACTAGCATGCC\n",
      "Reverse Complementary of GCATGCATGCTGACT:AGTCAGCATGCATGC\n",
      "Reverse Complementary of ATGTGTCGATGTAGC:GCTACATCGACACAT\n",
      "Reverse Complementary of TAGCTAGTCGTACGT:ACGTACGACTAGCTA\n"
     ]
    }
   ],
   "source": [
    "list_of_DNA = ['GGCATGCTAGTCGGC', 'GCATGCATGCTGACT', 'ATGTGTCGATGTAGC', 'TAGCTAGTCGTACGT']\n",
    "\n",
    "for dna in list_of_DNA:\n",
    "    reverse_compliment = reverse_complementary(dna)\n",
    "    print (f'Reverse Complementary of {dna}:{reverse_compliment}')"
   ]
  },
  {
   "cell_type": "code",
   "execution_count": 38,
   "id": "81bf04d4",
   "metadata": {},
   "outputs": [],
   "source": [
    "## Create a Function Here to Calculate GC%\n",
    "\n",
    "def calculate_GC(DNA: str):\n",
    "    ## Insert Code Here\n",
    "    GC_count = 0\n",
    "    ## Insert Code Here\n",
    "    for nt in DNA:\n",
    "        if nt == 'G':\n",
    "            GC_count += 1\n",
    "        elif nt == 'C':\n",
    "            GC_count += 1\n",
    "            \n",
    "    print (f'GC Count: {GC_count}, Length of DNA: {len(DNA)}')\n",
    "    GC_count = round((GC_count/len(DNA))*100,2)\n",
    "    \n",
    "    return GC_count"
   ]
  },
  {
   "cell_type": "code",
   "execution_count": 39,
   "id": "11d4c7a8",
   "metadata": {},
   "outputs": [
    {
     "name": "stdout",
     "output_type": "stream",
     "text": [
      "GC Count: 10, Length of DNA: 15\n",
      "66.67% for GGCATGCTAGTCGGC\n",
      "GC Count: 8, Length of DNA: 15\n",
      "53.33% for GCATGCATGCTGACT\n",
      "GC Count: 7, Length of DNA: 15\n",
      "46.67% for ATGTGTCGATGTAGC\n",
      "GC Count: 7, Length of DNA: 15\n",
      "46.67% for TAGCTAGTCGTACGT\n"
     ]
    }
   ],
   "source": [
    "list_of_DNA = ['GGCATGCTAGTCGGC', 'GCATGCATGCTGACT', 'ATGTGTCGATGTAGC', 'TAGCTAGTCGTACGT']\n",
    "\n",
    "for dna in list_of_DNA:\n",
    "    percentage = calculate_GC(dna)\n",
    "    print (f'{percentage}% for {dna}')"
   ]
  },
  {
   "cell_type": "code",
   "execution_count": 40,
   "id": "2d463a06",
   "metadata": {},
   "outputs": [],
   "source": [
    "## Create a Function Here to Convert DNA to RNA \n",
    "\n",
    "def DNA_To_RNA(DNA):\n",
    "    ## Insert Code Here\n",
    "    RNA = ''\n",
    "    for nt in DNA: \n",
    "        ## Insert Code Here\n",
    "        ## HINT!! If nt == 'T': do something\n",
    "        if nt == 'T':\n",
    "            RNA += 'U'\n",
    "        else:\n",
    "            RNA += nt\n",
    "    return RNA"
   ]
  },
  {
   "cell_type": "code",
   "execution_count": 41,
   "id": "5b203b9d",
   "metadata": {},
   "outputs": [
    {
     "name": "stdout",
     "output_type": "stream",
     "text": [
      "GGCAUGCUAGUCGGC : GGCATGCTAGTCGGC\n",
      "GCAUGCAUGCUGACU : GCATGCATGCTGACT\n",
      "AUGUGUCGAUGUAGC : ATGTGTCGATGTAGC\n",
      "UAGCUAGUCGUACGU : TAGCTAGTCGTACGT\n"
     ]
    }
   ],
   "source": [
    "list_of_DNA = ['GGCATGCTAGTCGGC', 'GCATGCATGCTGACT', 'ATGTGTCGATGTAGC', 'TAGCTAGTCGTACGT']\n",
    "\n",
    "for dna in list_of_DNA:\n",
    "    RNA = DNA_To_RNA(dna)\n",
    "    print (f'{RNA} : {dna}')"
   ]
  },
  {
   "cell_type": "markdown",
   "id": "4edf5b25",
   "metadata": {},
   "source": [
    "### Challenge 3: Hamming Distance"
   ]
  },
  {
   "cell_type": "markdown",
   "id": "65b57d78",
   "metadata": {},
   "source": [
    "In information theory, the Hamming distance between two strings of equal length is the number of positions at which the corresponding symbols are different.\n",
    "\n",
    "Your task is to find the hamming distance between the Two DNA strings"
   ]
  },
  {
   "cell_type": "code",
   "execution_count": 7,
   "id": "d56005ff",
   "metadata": {},
   "outputs": [],
   "source": [
    "DNA1 = 'AGCTAGCTAGAGTCGAC'\n",
    "DNA2 = 'AGCTACCGAGAGTTGAC'"
   ]
  },
  {
   "cell_type": "markdown",
   "id": "6d5f766a",
   "metadata": {},
   "source": [
    "Steps To Take:\n",
    "1. Optional: Check that the two strings are of equal length \n",
    "2. Iterate over the length of the strings using range(len(string))\n",
    "3. Check if the two characters at index i are different\n",
    "4. If different; hamming_distance += 1"
   ]
  },
  {
   "cell_type": "code",
   "execution_count": 43,
   "id": "3ce31c54",
   "metadata": {},
   "outputs": [],
   "source": [
    "## Create a Function Here to Calculate hamming distance from DNA1 to DNA2\n",
    "\n",
    "def calculate_hamming_distance(DNA1: str, DNA2: str):\n",
    "    hamming_distance = 0\n",
    "    assert len(DNA1) == len(DNA2), f'Length of {DNA1} and {DNA2} are not equal'\n",
    "    \n",
    "    ## Insert Code Here\n",
    "    for i in range(len(DNA1)):\n",
    "        if DNA1[i] != DNA2[i]:\n",
    "            hamming_distance += 1\n",
    "    \n",
    "    return hamming_distance"
   ]
  },
  {
   "cell_type": "code",
   "execution_count": 44,
   "id": "a4273bc1",
   "metadata": {},
   "outputs": [
    {
     "name": "stdout",
     "output_type": "stream",
     "text": [
      "3\n"
     ]
    }
   ],
   "source": [
    "hamming_distance = calculate_hamming_distance(DNA1, DNA2)\n",
    "print (hamming_distance)"
   ]
  },
  {
   "cell_type": "code",
   "execution_count": 10,
   "id": "2be1b918",
   "metadata": {},
   "outputs": [],
   "source": [
    "calculate_hamming_distance = lambda x,y: sum([i!=j for i,j in zip(x,y)])"
   ]
  },
  {
   "cell_type": "code",
   "execution_count": 11,
   "id": "0390c8f3",
   "metadata": {},
   "outputs": [
    {
     "name": "stdout",
     "output_type": "stream",
     "text": [
      "3\n"
     ]
    }
   ],
   "source": [
    "hamming_distance = calculate_hamming_distance(DNA1, DNA2)\n",
    "print (hamming_distance)"
   ]
  },
  {
   "cell_type": "markdown",
   "id": "57896574",
   "metadata": {},
   "source": [
    "### Challenge 4: String Search"
   ]
  },
  {
   "cell_type": "markdown",
   "id": "af17b88e",
   "metadata": {},
   "source": [
    "Write a Function to query a motif pattern (len=5) in a DNA sequence. "
   ]
  },
  {
   "cell_type": "code",
   "execution_count": 13,
   "id": "bc2085fd",
   "metadata": {},
   "outputs": [],
   "source": [
    "text    = 'GCGAGCGCTAGCTAGCAGCTAGCCATCGTAGCTAGCTGTGCTAGCATGGTCGAT'\n",
    "pattern = 'GAGCG'"
   ]
  },
  {
   "cell_type": "markdown",
   "id": "fe956d53",
   "metadata": {},
   "source": [
    "Steps:\n",
    "1. Iterate using range(len(DNA) – len(motif)) \n",
    "2. Slice the DNA[i: i+len(motif)] to check if it matches the query   \n",
    "3. If match: return i\n",
    "4. If no match is found: return -1"
   ]
  },
  {
   "cell_type": "code",
   "execution_count": 46,
   "id": "1d86a865",
   "metadata": {},
   "outputs": [],
   "source": [
    "## Hint: For Loops, string splicing\n",
    "## Hint: range(len(string) - len(motif))\n",
    "\n",
    "def string_query(text: str, pattern: str):\n",
    "    index = -1\n",
    "    \n",
    "    ## Insert Code Here\n",
    "    for i in range(len(text) - len(pattern)):\n",
    "        #GCGAGCGCTAGCTAGCAGCTAGCCATCGTAGCTAGCTGTGCTAGCATGGTCGAT\n",
    "        #GCGAG\n",
    "        # CGAGC\n",
    "        #  GAGCG\n",
    "        #  GAGCG\n",
    "        tmp_DNA = text[i:i+len(pattern)]\n",
    "        if tmp_DNA == pattern:\n",
    "            index = i\n",
    "    \n",
    "    return index"
   ]
  },
  {
   "cell_type": "code",
   "execution_count": 47,
   "id": "1d54c98a",
   "metadata": {},
   "outputs": [
    {
     "name": "stdout",
     "output_type": "stream",
     "text": [
      "2\n"
     ]
    }
   ],
   "source": [
    "index = string_query(text, pattern)\n",
    "print (index)"
   ]
  },
  {
   "cell_type": "code",
   "execution_count": 14,
   "id": "a3c58695",
   "metadata": {},
   "outputs": [
    {
     "name": "stdout",
     "output_type": "stream",
     "text": [
      "2\n"
     ]
    }
   ],
   "source": [
    "## One-liner\n",
    "\n",
    "index = text.find(pattern)\n",
    "print (index)"
   ]
  },
  {
   "cell_type": "code",
   "execution_count": null,
   "id": "5aad8be4",
   "metadata": {},
   "outputs": [],
   "source": []
  }
 ],
 "metadata": {
  "kernelspec": {
   "display_name": "Python 3 (ipykernel)",
   "language": "python",
   "name": "python3"
  },
  "language_info": {
   "codemirror_mode": {
    "name": "ipython",
    "version": 3
   },
   "file_extension": ".py",
   "mimetype": "text/x-python",
   "name": "python",
   "nbconvert_exporter": "python",
   "pygments_lexer": "ipython3",
   "version": "3.9.12"
  }
 },
 "nbformat": 4,
 "nbformat_minor": 5
}
