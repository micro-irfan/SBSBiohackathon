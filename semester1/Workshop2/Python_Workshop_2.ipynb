{
 "cells": [
  {
   "cell_type": "markdown",
   "id": "4af76618",
   "metadata": {},
   "source": [
    "## 4 Horsemen of Coding!"
   ]
  },
  {
   "cell_type": "markdown",
   "id": "6621c44a",
   "metadata": {},
   "source": [
    "### Recap!"
   ]
  },
  {
   "cell_type": "code",
   "execution_count": null,
   "id": "81fdfbf1",
   "metadata": {},
   "outputs": [],
   "source": [
    "# List \n",
    "\n",
    "list_of_sequence = ['AGCTGATCGATCGA', 'TTGTGTGTGCACAAC', 'GTCGATTATGCTA']\n",
    "\n",
    "# Dictionary \n",
    "# Key - Value Pairs\n",
    "\n",
    "bases = {\n",
    "    'A':'T',\n",
    "    'T':'A',\n",
    "    'C':'G',\n",
    "    'G':'C'\n",
    "}\n",
    "\n",
    "# For Loops \n",
    "\n",
    "for sequence in list_of_sequence:\n",
    "    print (sequence)\n",
    "    complimentary = ''\n",
    "    for nt in sequence:\n",
    "        \n",
    "\n"
   ]
  },
  {
   "cell_type": "markdown",
   "id": "0f80f262",
   "metadata": {},
   "source": [
    "### RNA to Protein Translation!"
   ]
  },
  {
   "cell_type": "code",
   "execution_count": null,
   "id": "6a8cf1d4",
   "metadata": {},
   "outputs": [],
   "source": [
    "gencode = {\"UUU\":\"F\", \"UUC\":\"F\", \"UUA\":\"L\", \"UUG\":\"L\",\n",
    "           \"UCU\":\"S\", \"UCC\":\"S\", \"UCA\":\"S\", \"UCG\":\"S\",\n",
    "           \"UAU\":\"Y\", \"UAC\":\"Y\", \"UAA\":\"\", \"UAG\":\"\",\n",
    "           \"UGU\":\"C\", \"UGC\":\"C\", \"UGA\":\"\", \"UGG\":\"W\",\n",
    "           \"CUU\":\"L\", \"CUC\":\"L\", \"CUA\":\"L\", \"CUG\":\"L\",\n",
    "           \"CCU\":\"P\", \"CCC\":\"P\", \"CCA\":\"P\", \"CCG\":\"P\",\n",
    "           \"CAU\":\"H\", \"CAC\":\"H\", \"CAA\":\"Q\", \"CAG\":\"Q\",\n",
    "           \"CGU\":\"R\", \"CGC\":\"R\", \"CGA\":\"R\", \"CGG\":\"R\",\n",
    "           \"AUU\":\"I\", \"AUC\":\"I\", \"AUA\":\"I\", \"AUG\":\"M\",\n",
    "           \"ACU\":\"T\", \"ACC\":\"T\", \"ACA\":\"T\", \"ACG\":\"T\",\n",
    "           \"AAU\":\"N\", \"AAC\":\"N\", \"AAA\":\"K\", \"AAG\":\"K\",\n",
    "           \"AGU\":\"S\", \"AGC\":\"S\", \"AGA\":\"R\", \"AGG\":\"R\",\n",
    "           \"GUU\":\"V\", \"GUC\":\"V\", \"GUA\":\"V\", \"GUG\":\"V\",\n",
    "           \"GCU\":\"A\", \"GCC\":\"A\", \"GCA\":\"A\", \"GCG\":\"A\",\n",
    "           \"GAU\":\"D\", \"GAC\":\"D\", \"GAA\":\"E\", \"GAG\":\"E\",\n",
    "           \"GGU\":\"G\", \"GGC\":\"G\", \"GGA\":\"G\", \"GGG\":\"G\"\n",
    "          }"
   ]
  },
  {
   "cell_type": "code",
   "execution_count": null,
   "id": "784d2a0c",
   "metadata": {},
   "outputs": [],
   "source": [
    "RNA_sequence = 'ACGUGUGCGUAGUAC'\n",
    "\n",
    "protein_sequence = ''\n",
    "for base in test_case_1:\n",
    "    \n",
    "    \n",
    "print (protein_sequence)"
   ]
  },
  {
   "cell_type": "markdown",
   "id": "4790672e",
   "metadata": {},
   "source": [
    "### Booleans"
   ]
  },
  {
   "cell_type": "code",
   "execution_count": null,
   "id": "6b221eea",
   "metadata": {},
   "outputs": [],
   "source": [
    "SBSBiohackathonIsAwesome = True"
   ]
  },
  {
   "cell_type": "code",
   "execution_count": null,
   "id": "7284cb94",
   "metadata": {},
   "outputs": [],
   "source": [
    "year1 = False"
   ]
  },
  {
   "cell_type": "markdown",
   "id": "70d8cd26",
   "metadata": {},
   "source": [
    "### Comparison Operators"
   ]
  },
  {
   "cell_type": "markdown",
   "id": "8701d7e9",
   "metadata": {},
   "source": [
    "Six comparison operators:\n",
    "\n",
    "1. more than (\\>)\n",
    "2. less than (<)\n",
    "3. equal or more than (\\>=)\n",
    "4. equal or less than (<=)\n",
    "5. equal (==)\n",
    "6. Not equal (!=)"
   ]
  },
  {
   "cell_type": "code",
   "execution_count": null,
   "id": "bd2fd6f2",
   "metadata": {},
   "outputs": [],
   "source": [
    "2 < 3"
   ]
  },
  {
   "cell_type": "code",
   "execution_count": null,
   "id": "27b1e65a",
   "metadata": {},
   "outputs": [],
   "source": [
    "1 >= 1"
   ]
  },
  {
   "cell_type": "code",
   "execution_count": null,
   "id": "a4e3c68d",
   "metadata": {},
   "outputs": [],
   "source": [
    "1 <= 4"
   ]
  },
  {
   "cell_type": "code",
   "execution_count": null,
   "id": "9ce04990",
   "metadata": {},
   "outputs": [],
   "source": [
    "## Test on Strings!\n",
    "\n",
    "'Hello' == 'hello'"
   ]
  },
  {
   "cell_type": "code",
   "execution_count": null,
   "id": "292b84eb",
   "metadata": {},
   "outputs": [],
   "source": [
    "## What about this?\n",
    "\n",
    "1 != True"
   ]
  },
  {
   "cell_type": "code",
   "execution_count": null,
   "id": "bec1b973",
   "metadata": {},
   "outputs": [],
   "source": [
    "0 == False"
   ]
  },
  {
   "cell_type": "markdown",
   "id": "2f0092ff",
   "metadata": {},
   "source": [
    "### Logic Operators"
   ]
  },
  {
   "cell_type": "code",
   "execution_count": null,
   "id": "98b7cffb",
   "metadata": {},
   "outputs": [],
   "source": [
    "not (2 < 3)"
   ]
  },
  {
   "cell_type": "code",
   "execution_count": null,
   "id": "75a042c2",
   "metadata": {},
   "outputs": [],
   "source": [
    "(1 > 2) and (2 < 3)"
   ]
  },
  {
   "cell_type": "code",
   "execution_count": null,
   "id": "d2727c16",
   "metadata": {},
   "outputs": [],
   "source": [
    "(1 > 2) or (2 < 3)"
   ]
  },
  {
   "cell_type": "code",
   "execution_count": null,
   "id": "4a477fd3",
   "metadata": {},
   "outputs": [],
   "source": [
    "(1 > 2) and not (2 < 3)"
   ]
  },
  {
   "cell_type": "code",
   "execution_count": null,
   "id": "fe3851fe",
   "metadata": {},
   "outputs": [],
   "source": [
    "list_of_numbers = list(range(0,5))\n",
    "print (list_of_numbers)"
   ]
  },
  {
   "cell_type": "code",
   "execution_count": null,
   "id": "d70965cf",
   "metadata": {},
   "outputs": [],
   "source": [
    "list_of_numbers = [0, 1, 2, 3, 4]\n",
    "print (list_of_numbers)"
   ]
  },
  {
   "cell_type": "code",
   "execution_count": null,
   "id": "252c2270",
   "metadata": {},
   "outputs": [],
   "source": [
    "3 in list_of_numbers"
   ]
  },
  {
   "cell_type": "code",
   "execution_count": null,
   "id": "ff925a8b",
   "metadata": {},
   "outputs": [],
   "source": [
    "6 in list_of_numbers"
   ]
  },
  {
   "cell_type": "code",
   "execution_count": null,
   "id": "d5a8b05d",
   "metadata": {},
   "outputs": [],
   "source": [
    "not 4 in list_of_numbers"
   ]
  },
  {
   "cell_type": "code",
   "execution_count": null,
   "id": "5720396e",
   "metadata": {},
   "outputs": [],
   "source": [
    "DNA = 'AGCGTGCCGT'"
   ]
  },
  {
   "cell_type": "code",
   "execution_count": null,
   "id": "d42b6389",
   "metadata": {},
   "outputs": [],
   "source": [
    "'GCG' in DNA"
   ]
  },
  {
   "cell_type": "markdown",
   "id": "56f6327a",
   "metadata": {},
   "source": [
    "### If, Elif, else Statements"
   ]
  },
  {
   "cell_type": "code",
   "execution_count": null,
   "id": "48005e0c",
   "metadata": {},
   "outputs": [],
   "source": [
    "a = 8\n",
    "b = 13\n",
    "c = 0\n",
    "d = True\n",
    "DNA = 'AGCGTGCCGT'\n",
    "RNA = ''"
   ]
  },
  {
   "cell_type": "code",
   "execution_count": null,
   "id": "a6396b16",
   "metadata": {},
   "outputs": [],
   "source": [
    "if a >= 10:\n",
    "    print (\"a is more than or equal to 10\")\n",
    "else:\n",
    "    print (\"a is less than 10\")"
   ]
  },
  {
   "cell_type": "code",
   "execution_count": null,
   "id": "4f11be84",
   "metadata": {},
   "outputs": [],
   "source": [
    "if a >= 10:\n",
    "    print (\"a is more than or equal to 10\")\n",
    "else if a >= 5 and a < 10:\n",
    "    print (\"a is between 5 to 9\")\n",
    "else:\n",
    "    print (\"a is less than 5\")"
   ]
  },
  {
   "cell_type": "code",
   "execution_count": null,
   "id": "75abae25",
   "metadata": {},
   "outputs": [],
   "source": [
    "if a % 2 == 0 and b % 2 == 0:\n",
    "    print (\"a or b is divisble by 2\")"
   ]
  },
  {
   "cell_type": "code",
   "execution_count": null,
   "id": "3b8a09f4",
   "metadata": {},
   "outputs": [],
   "source": [
    "if a % 2 == 0 or b % 2 == 0:\n",
    "    print (\"a or b is divisble by 2\")"
   ]
  },
  {
   "cell_type": "code",
   "execution_count": null,
   "id": "7680d915",
   "metadata": {},
   "outputs": [],
   "source": [
    "year1 = False\n",
    "if not year1:\n",
    "    print (\"He has completed BS1009 Introduction to Programming\")"
   ]
  },
  {
   "cell_type": "code",
   "execution_count": null,
   "id": "2e8aadd2",
   "metadata": {},
   "outputs": [],
   "source": [
    "b = 13\n",
    "c = 0\n",
    "d = True\n",
    "\n",
    "if b:\n",
    "    print (\"B is True\")\n",
    "else:\n",
    "    print (\"B is False\")\n",
    "    \n",
    "if c:\n",
    "    print (\"C is True\")\n",
    "else:\n",
    "    print (\"C is False\")\n",
    "    \n",
    "if d:\n",
    "    print (\"D is True\")\n",
    "else:\n",
    "    print (\"D is False\")"
   ]
  },
  {
   "cell_type": "code",
   "execution_count": null,
   "id": "70452a4e",
   "metadata": {},
   "outputs": [],
   "source": [
    "DNA = 'AGCGTGCCGT'\n",
    "\n",
    "if DNA:\n",
    "    print (f\"The DNA sequence is {DNA}\")\n",
    "else:\n",
    "    print ('No DNA Sequence')"
   ]
  },
  {
   "cell_type": "code",
   "execution_count": null,
   "id": "29eb73b5",
   "metadata": {},
   "outputs": [],
   "source": [
    "RNA = ''\n",
    "\n",
    "if RNA:\n",
    "    print (f\"The DNA sequence is {DNA}\")\n",
    "else:\n",
    "    print ('No DNA Sequence')"
   ]
  },
  {
   "cell_type": "code",
   "execution_count": null,
   "id": "ae601e5f",
   "metadata": {},
   "outputs": [],
   "source": [
    "if 'GCG' in DNA:\n",
    "    print (f'GCG is found in {DNA}')"
   ]
  },
  {
   "cell_type": "markdown",
   "id": "ecf8205d",
   "metadata": {},
   "source": [
    "### For Loops + If, Else Statements (Horsemen 2)"
   ]
  },
  {
   "cell_type": "markdown",
   "id": "9d3e1527",
   "metadata": {},
   "source": [
    "FuzzyWuzzy Mini Challenge!\n",
    "\n",
    "For a range of numbers between 1 to 50\n",
    "Prints 'FuzzyWuzzy' if the number is a multiple of 3 & 5\n",
    "Prints 'Fuzzy' if the number is a multiple of 3\n",
    "Prints 'Wuzzy' if the number is a mulitple of 5\n",
    "else continue"
   ]
  },
  {
   "cell_type": "code",
   "execution_count": null,
   "id": "57b91182",
   "metadata": {},
   "outputs": [],
   "source": [
    "## FuzzyWuzzy\n",
    "\n",
    "## Hint! Use modulo (%) to see if the value returns a remainder\n",
    "\n",
    "limit = 50\n",
    "for i in range(1, limit+1):\n",
    "    ## if i a multiple of both 3 and 5; Print 'FuzzyWuzzy' \n",
    "    \n",
    "    ## else if i is a multiple of 3; Print 'Fuzzy' \n",
    "    \n",
    "    ## else if i is a multiple of 5; Print 'Wuzzy' \n",
    "    \n",
    "    ## else; ignore"
   ]
  },
  {
   "cell_type": "markdown",
   "id": "0340f219",
   "metadata": {},
   "source": [
    "Convert DNA to RNA! "
   ]
  },
  {
   "cell_type": "code",
   "execution_count": null,
   "id": "06c5c894",
   "metadata": {},
   "outputs": [],
   "source": [
    "## Convert DNA to RNA (ie. substitute T to U)\n",
    "\n",
    "DNA = 'GCGAGCGCTAGCTAGCAGCTAGCCATCGTAGCTAGCTGTGCTAGCATGGTCGAT'\n",
    "\n",
    "RNA = ''\n",
    "for nt in DNA: \n",
    "    ## Insert Code Here\n",
    "    ## HINT!! If nt == 'T': do something\n"
   ]
  },
  {
   "cell_type": "markdown",
   "id": "63363de9",
   "metadata": {},
   "source": [
    "### Challenge 2: GC Content "
   ]
  },
  {
   "cell_type": "markdown",
   "id": "6a8dc45f",
   "metadata": {},
   "source": [
    "Your task is to calculate the GC percentage in a DNA String\n",
    "\n",
    "Steps:\n",
    "\n",
    "1. Store GC count in a variable: GC_count\n",
    "2. Iterate over the characters in the DNA using For Loop\n",
    "3. If character is a G or C: GC_count += 1\n",
    "4. Remember to divide GC_count by len(DNA) * 100"
   ]
  },
  {
   "cell_type": "code",
   "execution_count": null,
   "id": "cfbde8b8",
   "metadata": {},
   "outputs": [],
   "source": [
    "DNA = 'GCGAGCGCTAGCTAGCAGCTAGCCATCGTAGCTAGCTGTGCTAGCATGGTCGAT'"
   ]
  },
  {
   "cell_type": "code",
   "execution_count": null,
   "id": "674d7400",
   "metadata": {},
   "outputs": [],
   "source": [
    "## Hint! Think For Loop + If-else Statement\n",
    "\n",
    "GC_count = 0\n",
    "## Insert Code Here"
   ]
  },
  {
   "cell_type": "markdown",
   "id": "8bfa321a",
   "metadata": {},
   "source": [
    "## Functions (Horsemen 3)"
   ]
  },
  {
   "cell_type": "code",
   "execution_count": null,
   "id": "0d453278",
   "metadata": {},
   "outputs": [],
   "source": [
    "## Example 1\n",
    "\n",
    "def square(x):\n",
    "    return x*x"
   ]
  },
  {
   "cell_type": "code",
   "execution_count": null,
   "id": "1c717857",
   "metadata": {},
   "outputs": [],
   "source": [
    "for i in range(10):\n",
    "    squared_value = square(i)\n",
    "    print (f'{i} to the Power of Two gives: {squared_value}')"
   ]
  },
  {
   "cell_type": "code",
   "execution_count": null,
   "id": "7ef1f808",
   "metadata": {},
   "outputs": [],
   "source": [
    "## Example 2 (From Previous Week)\n",
    "\n",
    "def reverse_complementary(DNA):\n",
    "    reverse = ''\n",
    "    translation = {'A':'T', 'T':'A', 'G':'C', 'C':'G'}\n",
    "    for nt in DNA:\n",
    "        reverse += translation[nt]\n",
    "        \n",
    "    return reverse[::-1]"
   ]
  },
  {
   "cell_type": "code",
   "execution_count": null,
   "id": "4488ee7c",
   "metadata": {},
   "outputs": [],
   "source": [
    "list_of_DNA = ['GGCATGCTAGTCGGCA', 'GCATGCATGCTGACT', 'ATGTGTCGATGTAGC', 'TAGCTAGTCGTACGT']\n",
    "\n",
    "for dna in list_of_DNA:\n",
    "    reverse_compliment = reverse_complementary(dna)\n",
    "    print (f'Reverse Complementary of {dna}:{reverse_compliment}')"
   ]
  },
  {
   "cell_type": "code",
   "execution_count": null,
   "id": "81bf04d4",
   "metadata": {},
   "outputs": [],
   "source": [
    "## Create a Function Here to Calculate GC%\n",
    "\n",
    "def calculate_GC(DNA: str):\n",
    "    ## Insert Code Here\n",
    "    \n",
    "    return percentage"
   ]
  },
  {
   "cell_type": "code",
   "execution_count": null,
   "id": "11d4c7a8",
   "metadata": {},
   "outputs": [],
   "source": [
    "list_of_DNA = ['GGCATGCTAGTCGGCA', 'GCATGCATGCTGACT', 'ATGTGTCGATGTAGC', 'TAGCTAGTCGTACGT']\n",
    "\n",
    "for dna in list_of_DNA:\n",
    "    percentage = calculate_GC(dna)\n",
    "    print (f'{percentage}% for {dna}')"
   ]
  },
  {
   "cell_type": "code",
   "execution_count": null,
   "id": "2d463a06",
   "metadata": {},
   "outputs": [],
   "source": [
    "## Create a Function Here to Convert DNA to RNA \n",
    "\n",
    "def DNA_To_RNA(DNA):\n",
    "    RNA = ''\n",
    "    ## Insert Code Here\n",
    "    \n",
    "    return RNA"
   ]
  },
  {
   "cell_type": "code",
   "execution_count": null,
   "id": "5b203b9d",
   "metadata": {},
   "outputs": [],
   "source": [
    "list_of_DNA = ['GGCATGCTAGTCGGCA', 'GCATGCATGCTGACT', 'ATGTGTCGATGTAGC', 'TAGCTAGTCGTACGT']\n",
    "\n",
    "for dna in list_of_DNA:\n",
    "    RNA = DNA_To_RNA(dna)\n",
    "    print (f'{RNA}')\n",
    "    print (f'{dna}')\n",
    "    print ('*' * 25)"
   ]
  },
  {
   "cell_type": "markdown",
   "id": "4edf5b25",
   "metadata": {},
   "source": [
    "### Challenge 3: Hamming Distance"
   ]
  },
  {
   "cell_type": "markdown",
   "id": "65b57d78",
   "metadata": {},
   "source": [
    "In information theory, the Hamming distance between two strings of equal length is the number of positions at which the corresponding symbols are different.\n",
    "\n",
    "Your task is to find the hamming distance between the Two DNA strings"
   ]
  },
  {
   "cell_type": "code",
   "execution_count": null,
   "id": "d56005ff",
   "metadata": {},
   "outputs": [],
   "source": [
    "DNA1 = 'AGCTAGCTAGAGTCGAC'\n",
    "DNA2 = 'AGCTACCGAGAGTTGAC'"
   ]
  },
  {
   "cell_type": "code",
   "execution_count": null,
   "id": "3ce31c54",
   "metadata": {},
   "outputs": [],
   "source": [
    "## Create a Function Here to Calculate hamming distance from DNA1 to DNA2\n",
    "\n",
    "def calculate_hamming_distance(DNA1: str, DNA2: str):\n",
    "    hamming_distance = 0\n",
    "    assert len(DNA1) == len(DNA2), f'Length of {DNA1} and {DNA2} are not equal'\n",
    "    \n",
    "    ## Insert Code Here\n",
    "    \n",
    "    return hamming_distance"
   ]
  },
  {
   "cell_type": "code",
   "execution_count": null,
   "id": "a4273bc1",
   "metadata": {},
   "outputs": [],
   "source": [
    "hamming_distance = calculate_hamming_distance(DNA1, DNA2)\n",
    "print (hamming_distance)"
   ]
  },
  {
   "cell_type": "markdown",
   "id": "57896574",
   "metadata": {},
   "source": [
    "### Challenge 4: String Search"
   ]
  },
  {
   "cell_type": "markdown",
   "id": "af17b88e",
   "metadata": {},
   "source": [
    "Write a Function to query a motif pattern (len=5) in a DNA sequence. "
   ]
  },
  {
   "cell_type": "code",
   "execution_count": null,
   "id": "bc2085fd",
   "metadata": {},
   "outputs": [],
   "source": [
    "text    = 'GCGAGCGCTAGCTAGCAGCTAGCCATCGTAGCTAGCTGTGCTAGCATGGTCGAT'\n",
    "pattern = 'CTAGC'"
   ]
  },
  {
   "cell_type": "code",
   "execution_count": null,
   "id": "1d86a865",
   "metadata": {},
   "outputs": [],
   "source": [
    "## Hint: For Loops, string splicing\n",
    "## Hint: range(len(string) - len(motif))\n",
    "\n",
    "def string_query(text: str, pattern: str):\n",
    "    index = -1\n",
    "    \n",
    "    ## Insert Code Here\n",
    "    \n",
    "    \n",
    "    return index"
   ]
  },
  {
   "cell_type": "code",
   "execution_count": null,
   "id": "678c221d",
   "metadata": {},
   "outputs": [],
   "source": [
    "position = string_query(text, pattern)\n",
    "print (position)"
   ]
  }
 ],
 "metadata": {
  "kernelspec": {
   "display_name": "Python 3 (ipykernel)",
   "language": "python",
   "name": "python3"
  },
  "language_info": {
   "codemirror_mode": {
    "name": "ipython",
    "version": 3
   },
   "file_extension": ".py",
   "mimetype": "text/x-python",
   "name": "python",
   "nbconvert_exporter": "python",
   "pygments_lexer": "ipython3",
   "version": "3.9.12"
  }
 },
 "nbformat": 4,
 "nbformat_minor": 5
}
