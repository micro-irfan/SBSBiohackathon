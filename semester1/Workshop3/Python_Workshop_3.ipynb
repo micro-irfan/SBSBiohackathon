{
 "cells": [
  {
   "cell_type": "markdown",
   "id": "7ecbe22d",
   "metadata": {},
   "source": [
    "## String Algorithms "
   ]
  },
  {
   "cell_type": "markdown",
   "id": "9478932c",
   "metadata": {},
   "source": [
    "### Warm up: Return all index when string query is found!"
   ]
  },
  {
   "cell_type": "markdown",
   "id": "c237e16a",
   "metadata": {},
   "source": [
    "We have seen previously string query which returns the first index where the string query is found \n",
    "\n",
    "Your task is to adjust and return all indexes where the string is found!"
   ]
  },
  {
   "cell_type": "code",
   "execution_count": null,
   "id": "7f89c88f",
   "metadata": {},
   "outputs": [],
   "source": [
    "## Previous Function Given below\n",
    "## Hint Use a list to *append* new index found (: \n",
    "\n",
    "def string_query(text: str, pattern: str):\n",
    "    indexes = []\n",
    "    \n",
    "    ## Insert Code Here\n",
    "    for i in range(len(text) - len(pattern)):\n",
    "        tmp_DNA = text[i:i+len(pattern)]\n",
    "        if tmp_DNA == pattern:\n",
    "            ## Insert Code here\n",
    "            \n",
    "    \n",
    "    return indexes"
   ]
  },
  {
   "cell_type": "code",
   "execution_count": null,
   "id": "f92f02e6",
   "metadata": {},
   "outputs": [],
   "source": [
    "text    = 'GCGAGCGCTAGCTAGCAGAGCGGCTAGCCATCGTAGCGAGCGTAGCTGTGCTAGCATGGTCGAT'\n",
    "pattern = 'GAGCG'\n",
    "\n",
    "indexes = string_query(text, pattern)\n",
    "print (indexes)"
   ]
  },
  {
   "cell_type": "markdown",
   "id": "1125fe5f",
   "metadata": {},
   "source": [
    "### Challenge 5: String Search with one mismatch "
   ]
  },
  {
   "cell_type": "markdown",
   "id": "72048d3f",
   "metadata": {},
   "source": [
    "We have seen previously two functions for hamming distance & brute force string search"
   ]
  },
  {
   "cell_type": "code",
   "execution_count": null,
   "id": "c4ccb59d",
   "metadata": {},
   "outputs": [],
   "source": [
    "## Code for Hamming Distance\n",
    "\n",
    "def calculate_hamming_distance(DNA1: str, DNA2: str):\n",
    "    hamming_distance = 0\n",
    "    assert len(DNA1) == len(DNA2), f'Length of {DNA1} and {DNA2} are not equal'\n",
    "    \n",
    "    ## Insert Code Here\n",
    "    for i in range(len(DNA1)):\n",
    "        if DNA1[i] != DNA2[i]:\n",
    "            hamming_distance += 1\n",
    "    \n",
    "    return hamming_distance"
   ]
  },
  {
   "cell_type": "markdown",
   "id": "728fbfe1",
   "metadata": {},
   "source": [
    "How do combine them to check for query a pattern in a text with one (or more) mismatches? \n",
    "\n",
    "Your Task:\n",
    "    Create a Function to combine the above two and return the index of the query in the text \n",
    "    If you're up for a challenge, return the number of mismatches in that particular position "
   ]
  },
  {
   "cell_type": "code",
   "execution_count": null,
   "id": "58eeb566",
   "metadata": {},
   "outputs": [],
   "source": [
    "def string_query_with_mismatch(text: str, pattern: str, mismatch: int=1):\n",
    "    ## Hint: The skeleton for the function is similar to the func string_query\n",
    "    indexes    = []\n",
    "    mismatches = []\n",
    "    \n",
    "    ## Insert Code Below \n",
    "    for i in range(len(text) - len(pattern)):\n",
    "        \n",
    "        if hamming_distance <= mismatch:\n",
    "            ## Insert Code here\n",
    "            \n",
    "    \n",
    "    return indexes, mismatches"
   ]
  },
  {
   "cell_type": "code",
   "execution_count": null,
   "id": "6ea0e8e8",
   "metadata": {},
   "outputs": [],
   "source": [
    "text     = 'GCGAGCGCTAGCTAGCAGAGCGGCTAGCCATCGTAGCGAGCGTAGCTGTGCTAGCATGGTCGAT'\n",
    "pattern  = 'GAGCG'\n",
    "mismatch = 2\n",
    "\n",
    "indexes, mismatches = string_query_with_mismatch(text, pattern, mismatch)\n",
    "for i, m in zip(indexes, mismatches):\n",
    "    print (f'{pattern} found at position {i} with {m} mismatch/es')"
   ]
  },
  {
   "cell_type": "markdown",
   "id": "a8beec5f",
   "metadata": {},
   "source": [
    "### Reading and Writing to Files (The last Horsemen!)"
   ]
  },
  {
   "cell_type": "markdown",
   "id": "93867d7d",
   "metadata": {},
   "source": [
    "Two Methods! "
   ]
  },
  {
   "cell_type": "code",
   "execution_count": null,
   "id": "82b3c687",
   "metadata": {},
   "outputs": [],
   "source": [
    "## Method One:\n",
    "\n",
    "csv_file = ''\n",
    "\n",
    "# To Write\n",
    "with open(csv_file, 'w') as f: \n",
    "    ## Insert Code Here\n",
    "    f.write(f\"Message: {}\\n\")\n",
    "\n",
    "# To Read\n",
    "with open(csv_file, 'r') as f: \n",
    "    ## Insert Code Here\n",
    "    for line in f: \n",
    "        line = line.strip('\\n')\n",
    "        col = line.split(',')\n",
    "        ## Do Something"
   ]
  },
  {
   "cell_type": "code",
   "execution_count": null,
   "id": "7923c0fc",
   "metadata": {},
   "outputs": [],
   "source": [
    "## Method Two: \n",
    "\n",
    "csv_file = ''\n",
    "\n",
    "# To Write\n",
    "open_file = open(csv_file, 'w')\n",
    "open_file.write(f\"Message: {}\\n\")\n",
    "open_file.close()\n",
    "\n",
    "# To Read\n",
    "open_file = open(csv_file, 'r')\n",
    "for line in open_file: \n",
    "    line = line.strip('\\n')\n",
    "    col = line.split(',')\n",
    "\n",
    "open_file.close()"
   ]
  },
  {
   "cell_type": "markdown",
   "id": "cf8ccfbe",
   "metadata": {},
   "source": [
    "Your task is to read the csv file provided (Containing id, name, sequence) and find out if the pattern is found within the DNA sequence and write the sequences into a new csv file (Containing id, name, sequence, index, mismatch)"
   ]
  },
  {
   "cell_type": "markdown",
   "id": "a22689d3",
   "metadata": {},
   "source": [
    "id,name,sequence\n",
    "1,Gene_x,GCAGCTAGCTAGCA\n",
    "\n",
    "CAGC\n",
    "1,Gene_x,GCAGCCAGCTAGCTAGCA,1;5,0;5"
   ]
  },
  {
   "cell_type": "code",
   "execution_count": null,
   "id": "746252c5",
   "metadata": {},
   "outputs": [],
   "source": [
    "def open_csv(pattern, csv_file_read, csv_file_write, mismatch = 2):\n",
    "    \n",
    "    csv_file_write_open = open(csv_file_write, 'w')\n",
    "    with open(csv_file_read, 'r') as f:\n",
    "        ## Insert Code \n",
    "        for line in f:\n",
    "            \n",
    "            \n",
    "            \n",
    "            ## To Write, Use F-strings\n",
    "            if indexes:\n",
    "                csv_file_write_open.write(f\"{},{},{},{';'.join([f'{str(i)}/{str(m)}' for i,m in zip(indexes, mismatches)])}\\n\")\n",
    "            else:\n",
    "                csv_file_write_open.write(f\"{},{},{},None\\n\")\n",
    "        \n",
    "        csv_file_write_open.close()\n",
    "        \n",
    "    return \n",
    "    "
   ]
  },
  {
   "cell_type": "code",
   "execution_count": null,
   "id": "c227f3ee",
   "metadata": {},
   "outputs": [],
   "source": [
    "csv_file_read  = 'gene_of_interest.csv'\n",
    "csv_file_write = 'gene_of_interest_updated.csv'\n",
    "pattern  = 'GAGCG'\n",
    "mismatch = 1\n",
    "\n",
    "open_csv(pattern, csv_file_read, csv_file_write, mismatch)\n",
    "print ('Done!')"
   ]
  },
  {
   "cell_type": "markdown",
   "id": "5c0b73de",
   "metadata": {},
   "source": [
    "## Challenge 7: Edit Distance!"
   ]
  },
  {
   "cell_type": "markdown",
   "id": "c867f578",
   "metadata": {},
   "source": [
    "### Nested Loops & 2D Matrix"
   ]
  },
  {
   "cell_type": "code",
   "execution_count": null,
   "id": "b2554af0",
   "metadata": {},
   "outputs": [],
   "source": [
    "x_axis = 10\n",
    "y_axis = 8\n",
    "\n",
    "print([[x for x in range(x_axis)] for y in range(y_axis)])"
   ]
  },
  {
   "cell_type": "code",
   "execution_count": null,
   "id": "014ffcc3",
   "metadata": {},
   "outputs": [],
   "source": [
    "## 2D Matrix\n",
    "\n",
    "x_axis = 10\n",
    "y_axis = 8\n",
    "\n",
    "print([x for x in range(x_axis)])\n",
    "matrix = [[x for x in range(x_axis)] for y in range(y_axis)]\n",
    "\n",
    "for y in range(y_axis):\n",
    "    print (matrix[y])\n",
    "\n",
    "#To Find a particular coordinate in the matrix, we can use indexing\n",
    "print (matrix[5][5])\n",
    "    \n",
    "for y in range(y_axis):\n",
    "    for x in range(x_axis):\n",
    "        ## Do Something \n",
    "        pass"
   ]
  },
  {
   "cell_type": "markdown",
   "id": "bd3a1022",
   "metadata": {},
   "source": [
    "Measuring dissimilarity between two strings, ie. What’s the least operation for one string 1 to be converted to string 2 in terms of Substitution, Insertion and Deletion"
   ]
  },
  {
   "cell_type": "code",
   "execution_count": null,
   "id": "2c9a9406",
   "metadata": {},
   "outputs": [],
   "source": [
    "## Initialize Matrix Here\n",
    "\n",
    "string_x = 'GAGCTC'\n",
    "string_y = 'CGAGGC'\n",
    "\n",
    "len_x = len(string_x) + 1\n",
    "len_y = len(string_y) + 1\n",
    "    \n",
    "matrix = [[0 for x in range(len_x)] for y in range(len_y)]\n",
    "    \n",
    "for i in range(0, len_x):\n",
    "    matrix[0][i] = i\n",
    "    \n",
    "for i in range(0, len_y):\n",
    "    matrix[i][0] = i\n",
    "    \n",
    "## To Check\n",
    "for y in range(len_y):\n",
    "    print (matrix[y])   \n",
    "print ('-' * 25)"
   ]
  },
  {
   "cell_type": "code",
   "execution_count": null,
   "id": "913cf5fb",
   "metadata": {},
   "outputs": [],
   "source": [
    "def edit_distance(string_x, string_y):\n",
    "    ## Insert Initialized matrix code here!\n",
    "    \n",
    "    ## Insert Code Here!\n",
    "    \n",
    "    return matrix[-1][-1]"
   ]
  },
  {
   "cell_type": "code",
   "execution_count": null,
   "id": "55a819b8",
   "metadata": {},
   "outputs": [],
   "source": [
    "'''\n",
    "    G A G\n",
    "  0,1,2,3\n",
    "C 1,1,2,3\n",
    "G 2,1,2,2\n",
    "A 3,2,1,2 \n",
    "\n",
    "deletion      = 2 + 1 = 3\n",
    "insertion     = 1 + 1 = 2\n",
    "substituition = 2 + 1 = 3\n",
    "min(insertion, deletion, substituition)\n",
    "'''"
   ]
  },
  {
   "cell_type": "code",
   "execution_count": null,
   "id": "651283bf",
   "metadata": {},
   "outputs": [],
   "source": [
    "DNA_1 = 'GAGCT'\n",
    "DNA_2 = 'CGAGGC'\n",
    "\n",
    "print (f'Edit Distance Score:', edit_distance(DNA_1, DNA_2))"
   ]
  },
  {
   "cell_type": "markdown",
   "id": "2a4de92b",
   "metadata": {},
   "source": [
    "## Other Take Home Challenges!"
   ]
  },
  {
   "cell_type": "code",
   "execution_count": null,
   "id": "3c990440",
   "metadata": {},
   "outputs": [],
   "source": [
    "'''\n",
    "One Take Home Challenge is to calculate the conservation score for each index in a list of sequences\n",
    "\n",
    "For example:\n",
    "ACTATGCTAGCTAC\n",
    "AGGATGCCAGCTAC\n",
    "AGCATGCTAGCTAG\n",
    "ACGATGCTAGCTAG\n",
    "ACGTTGCTAGCTAG\n",
    "\n",
    "Index 1: A (100%)\n",
    "Index 2: C (60 %)\n",
    "Index 3: G (60 %)\n",
    "Index 4: T (100%)\n",
    "Index 5: G (100%)\n",
    "\n",
    "Other Fun Bioinformatics Challenges can be found on https://rosalind.info/problems/list-view/\n",
    "'''"
   ]
  },
  {
   "cell_type": "code",
   "execution_count": null,
   "id": "68564bcc",
   "metadata": {},
   "outputs": [],
   "source": []
  }
 ],
 "metadata": {
  "kernelspec": {
   "display_name": "Python 3 (ipykernel)",
   "language": "python",
   "name": "python3"
  },
  "language_info": {
   "codemirror_mode": {
    "name": "ipython",
    "version": 3
   },
   "file_extension": ".py",
   "mimetype": "text/x-python",
   "name": "python",
   "nbconvert_exporter": "python",
   "pygments_lexer": "ipython3",
   "version": "3.9.12"
  }
 },
 "nbformat": 4,
 "nbformat_minor": 5
}
